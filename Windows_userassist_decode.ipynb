{
  "nbformat": 4,
  "nbformat_minor": 0,
  "metadata": {
    "colab": {
      "name": "Windows_userassist_decode.ipynb",
      "provenance": [],
      "collapsed_sections": [],
      "authorship_tag": "ABX9TyNRZUErjYJ0RXDl0iE5mVh3"
    },
    "kernelspec": {
      "name": "python3",
      "display_name": "Python 3"
    },
    "language_info": {
      "name": "python"
    }
  },
  "cells": [
    {
      "cell_type": "code",
      "metadata": {
        "id": "hBlKR3vKLCFf"
      },
      "source": [
        "strings = []\n",
        "codes = {\"{1AC14E77-02E7-4E5D-B744-2EB1AE5198B7}\":\"C:\\Windows\\System32\", \n",
        "         \"{6D809377-6AF0-444B-8957-A3773F02200E}\":\"C:\\Program Files\", \n",
        "         \"{7C5A40EF-A0FB-4BFC-874A-C0F2E0B9FA8E}\":\"C:\\Program Files (x86)\", \n",
        "         \"{F38BF404-1D43-42F2-9305-67DE0B28FC23}\":\"C:\\Windows\", \n",
        "         \"{0139D44E-6AFE-49F2-8690-3DAFCAE6FFB8}\":\"C:\\ProgramData\\Microsoft\\Windows\\ Start Menu\\Programs\", \n",
        "         \"{A77F5D77-2E2B-44C3-A6A2-ABA601054A51}\":\"%AppData%\\Roaming\\Microsoft\\Windows\\ Start Menu\\Programs\",\n",
        "         \"{9E3995AB-1F9C-4F13-B827-48B24B6C7174}\":\"%AppData%\\Roaming\\Microsoft\\Internet Explorer\\Quick Launch\\ User Pinned\", \n",
        "         \"{D65231B0-B2F1-4857-A4CE-A8E7C6EA7D27}\":\"C:\\Windows\\SysWOW64\"\n",
        "         }\n",
        "high_letters = \"ABCDEFGHIJKLMNOPQRSTUVWXYZ\"\n",
        "low_letters = \"abcdefghijklmnopqrstuvwxyz\"\n",
        "out = []"
      ],
      "execution_count": null,
      "outputs": []
    },
    {
      "cell_type": "code",
      "metadata": {
        "id": "iizRmgicLzyg"
      },
      "source": [
        "rot = int(input())"
      ],
      "execution_count": null,
      "outputs": []
    },
    {
      "cell_type": "code",
      "metadata": {
        "colab": {
          "base_uri": "https://localhost:8080/"
        },
        "id": "MrgkBcp3ZY33",
        "outputId": "b3cbfed3-a344-433b-ea5f-ebb12f2eb0ac"
      },
      "source": [
        "temp = \"\"\n",
        "while True:\n",
        "  temp = str(input())\n",
        "  if temp == \"end\":\n",
        "    break\n",
        "  strings.append(temp)\n",
        "\n"
      ],
      "execution_count": null,
      "outputs": [
        {
          "name": "stdout",
          "output_type": "stream",
          "text": [
            "{7P5N40RS-N0SO-4OSP-874N-P0S2R0O9SN8R}\\Zvpebfbsg Bssvpr\\Bssvpr14\\JVAJBEQ.RKR\n",
            "{Q65231O0-O2S1-4857-N4PR-N8R7P6RN7Q27}\\FavccvatGbby.rkr\n",
            "{Q65231O0-O2S1-4857-N4PR-N8R7P6RN7Q27}\\fyhv.rkr\n",
            "{Q65231O0-O2S1-4857-N4PR-N8R7P6RN7Q27}\\JSF.rkr\n",
            "{Q65231O0-O2S1-4857-N4PR-N8R7P6RN7Q27}\\kcfepuij.rkr\n",
            "{Q65231O0-O2S1-4857-N4PR-N8R7P6RN7Q27}\\pnyp.rkr\n",
            "{Q65231O0-O2S1-4857-N4PR-N8R7P6RN7Q27}\\qvfcynlfjvgpu.rkr\n",
            "{Q65231O0-O2S1-4857-N4PR-N8R7P6RN7Q27}\\zfcnvag.rkr\n",
            "{Q65231O0-O2S1-4857-N4PR-N8R7P6RN7Q27}\\zntavsl.rkr\n",
            "{S38OS404-1Q43-42S2-9305-67QR0O28SP23}\\ertrqvg.rkr\n",
            "{S38OS404-1Q43-42S2-9305-67QR0O28SP23}\\rkcybere.rkr\n",
            "HRZR_PGYFRFFVBA\n",
            "HRZR_PGYPHNPbhag:pgbe\n",
            "P:\\Hfref\\IAZ\\NccQngn\\Ybpny\\Eulzrf 3\\Eulzrf.rkr\n",
            "P:\\Hfref\\IAZ\\Qrfxgbc\\eulzrf-3.7-frghc.rkr\n",
            "Zvpebfbsg.Jvaqbjf.ErzbgrQrfxgbc\n",
            "Zvpebfbsg.Jvaqbjf.FgvpxlAbgrf\n",
            "Zvpebfbsg.Jvaqbjf.TrggvatFgnegrq\n",
            "end\n"
          ]
        }
      ]
    },
    {
      "cell_type": "code",
      "metadata": {
        "colab": {
          "base_uri": "https://localhost:8080/"
        },
        "id": "akiNtgjgMLaV",
        "outputId": "641fd612-3c96-4dde-89d8-f02fcb5257ef"
      },
      "source": [
        "\n",
        "temp_word = \"\"\n",
        "for string in strings:\n",
        "  for letter in string:\n",
        "    if letter in high_letters:\n",
        "      temp_word += high_letters[(high_letters.index(letter) - rot) % len(high_letters)]\n",
        "    elif letter in low_letters:\n",
        "      temp_word += low_letters[(low_letters.index(letter) - rot) % len(low_letters)]\n",
        "    else:\n",
        "      temp_word += letter\n",
        "  first = temp_word.split(\"\\\\\")[0]\n",
        "  if first in codes.keys():\n",
        "    temp_word = temp_word.replace(first, codes[first])\n",
        "  out.append(temp_word)\n",
        "  temp_word = \"\"\n",
        "print(*out, sep=\"\\n\")  \n",
        "\n",
        "\n"
      ],
      "execution_count": null,
      "outputs": [
        {
          "output_type": "stream",
          "name": "stdout",
          "text": [
            "C:\\Program Files (x86)\\Microsoft Office\\Office14\\WINWORD.EXE\n",
            "C:\\Program Files (x86)\\Microsoft Office\\Office14\\WINWORD.EXE\n",
            "C:\\Windows\\SysWOW64\\SnippingTool.exe\n",
            "C:\\Windows\\SysWOW64\\slui.exe\n",
            "C:\\Windows\\SysWOW64\\WFS.exe\n",
            "C:\\Windows\\SysWOW64\\xpsrchvw.exe\n",
            "C:\\Windows\\SysWOW64\\calc.exe\n",
            "C:\\Windows\\SysWOW64\\displayswitch.exe\n",
            "C:\\Windows\\SysWOW64\\mspaint.exe\n",
            "C:\\Windows\\SysWOW64\\magnify.exe\n",
            "C:\\Windows\\regedit.exe\n",
            "C:\\Windows\\explorer.exe\n",
            "UEME_CTLSESSION\n",
            "UEME_CTLCUACount:ctor\n",
            "C:\\Users\\VNM\\AppData\\Local\\Rhymes 3\\Rhymes.exe\n",
            "C:\\Users\\VNM\\Desktop\\rhymes-3.7-setup.exe\n",
            "Microsoft.Windows.RemoteDesktop\n",
            "Microsoft.Windows.StickyNotes\n",
            "Microsoft.Windows.GettingStarted\n"
          ]
        }
      ]
    },
    {
      "cell_type": "code",
      "metadata": {
        "id": "PeG9Dil8MLUO"
      },
      "source": [
        ""
      ],
      "execution_count": null,
      "outputs": []
    },
    {
      "cell_type": "code",
      "metadata": {
        "id": "3qH103KQMLRw"
      },
      "source": [
        ""
      ],
      "execution_count": null,
      "outputs": []
    },
    {
      "cell_type": "code",
      "metadata": {
        "id": "nH3nWI1KMLPG"
      },
      "source": [
        ""
      ],
      "execution_count": null,
      "outputs": []
    },
    {
      "cell_type": "code",
      "metadata": {
        "id": "I7j5Zv9EMLLq"
      },
      "source": [
        ""
      ],
      "execution_count": null,
      "outputs": []
    },
    {
      "cell_type": "code",
      "metadata": {
        "id": "SBwNtvOvMLGb"
      },
      "source": [
        ""
      ],
      "execution_count": null,
      "outputs": []
    }
  ]
}